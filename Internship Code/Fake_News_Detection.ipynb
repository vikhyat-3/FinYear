{
  "cells": [
    {
      "attachments": {},
      "cell_type": "markdown",
      "metadata": {
        "colab_type": "text",
        "id": "view-in-github"
      },
      "source": [
        "<a href=\"https://colab.research.google.com/github/vikhyat-3/FakeNewsDetection/blob/main/Fake_News_Detection.ipynb\" target=\"_parent\"><img src=\"https://colab.research.google.com/assets/colab-badge.svg\" alt=\"Open In Colab\"/></a>"
      ]
    },
    {
      "attachments": {},
      "cell_type": "markdown",
      "metadata": {
        "id": "Eal6S9r00b3E"
      },
      "source": [
        "#### Import Required Libraries"
      ]
    },
    {
      "cell_type": "code",
      "execution_count": 2,
      "metadata": {
        "colab": {
          "base_uri": "https://localhost:8080/"
        },
        "id": "1Ml5U8z0IVYn",
        "outputId": "7329a374-2c3a-48e7-f8c5-3dc4da52afba"
      },
      "outputs": [
        {
          "name": "stdout",
          "output_type": "stream",
          "text": [
            "Drive already mounted at /content/drive; to attempt to forcibly remount, call drive.mount(\"/content/drive\", force_remount=True).\n"
          ]
        }
      ],
      "source": [
        "# from google.colab import drive\n",
        "# drive.mount('/content/drive')"
      ]
    },
    {
      "cell_type": "code",
      "execution_count": 1,
      "metadata": {
        "colab": {
          "base_uri": "https://localhost:8080/"
        },
        "id": "erqOmLOew6cZ",
        "outputId": "e5ffbbd2-6ccc-48ad-94a3-fbedd95efbaa"
      },
      "outputs": [
        {
          "name": "stderr",
          "output_type": "stream",
          "text": [
            "[nltk_data] Downloading package stopwords to\n",
            "[nltk_data]     C:\\Users\\Aisiri\\AppData\\Roaming\\nltk_data...\n",
            "[nltk_data]   Unzipping corpora\\stopwords.zip.\n",
            "[nltk_data] Downloading package wordnet to\n",
            "[nltk_data]     C:\\Users\\Aisiri\\AppData\\Roaming\\nltk_data...\n"
          ]
        }
      ],
      "source": [
        "import pandas as pd\n",
        "import re\n",
        "import nltk\n",
        "nltk.download('stopwords')\n",
        "nltk.download('wordnet')\n",
        "stopwords = nltk.corpus.stopwords.words('english')\n",
        "from nltk.stem import WordNetLemmatizer\n",
        "wordnet_lemmatizer = WordNetLemmatizer()\n",
        "import numpy as np\n",
        "import matplotlib.pyplot as plt"
      ]
    },
    {
      "attachments": {},
      "cell_type": "markdown",
      "metadata": {
        "id": "OxoZPGaOAPY3"
      },
      "source": [
        "### Read Data"
      ]
    },
    {
      "cell_type": "code",
      "execution_count": 2,
      "metadata": {
        "id": "U2dRXdot1Nrb"
      },
      "outputs": [],
      "source": [
        "trueData = pd.read_csv(\"Dataset of True News.csv\")\n",
        "fakeData = pd.read_csv(\"Dataset of Fake News.csv\")"
      ]
    },
    {
      "cell_type": "code",
      "execution_count": 3,
      "metadata": {
        "colab": {
          "base_uri": "https://localhost:8080/",
          "height": 206
        },
        "id": "uoSQMOSG1tSL",
        "outputId": "60970b6a-654d-4b19-a1a1-f848e1a0df55"
      },
      "outputs": [
        {
          "data": {
            "text/html": [
              "<div>\n",
              "<style scoped>\n",
              "    .dataframe tbody tr th:only-of-type {\n",
              "        vertical-align: middle;\n",
              "    }\n",
              "\n",
              "    .dataframe tbody tr th {\n",
              "        vertical-align: top;\n",
              "    }\n",
              "\n",
              "    .dataframe thead th {\n",
              "        text-align: right;\n",
              "    }\n",
              "</style>\n",
              "<table border=\"1\" class=\"dataframe\">\n",
              "  <thead>\n",
              "    <tr style=\"text-align: right;\">\n",
              "      <th></th>\n",
              "      <th>title</th>\n",
              "      <th>text</th>\n",
              "      <th>subject</th>\n",
              "      <th>date</th>\n",
              "    </tr>\n",
              "  </thead>\n",
              "  <tbody>\n",
              "    <tr>\n",
              "      <th>0</th>\n",
              "      <td>Donald Trump Sends Out Embarrassing New Year’...</td>\n",
              "      <td>Donald Trump just couldn t wish all Americans ...</td>\n",
              "      <td>News</td>\n",
              "      <td>December 31, 2017</td>\n",
              "    </tr>\n",
              "    <tr>\n",
              "      <th>1</th>\n",
              "      <td>Drunk Bragging Trump Staffer Started Russian ...</td>\n",
              "      <td>House Intelligence Committee Chairman Devin Nu...</td>\n",
              "      <td>News</td>\n",
              "      <td>December 31, 2017</td>\n",
              "    </tr>\n",
              "    <tr>\n",
              "      <th>2</th>\n",
              "      <td>Sheriff David Clarke Becomes An Internet Joke...</td>\n",
              "      <td>On Friday, it was revealed that former Milwauk...</td>\n",
              "      <td>News</td>\n",
              "      <td>December 30, 2017</td>\n",
              "    </tr>\n",
              "    <tr>\n",
              "      <th>3</th>\n",
              "      <td>Trump Is So Obsessed He Even Has Obama’s Name...</td>\n",
              "      <td>On Christmas day, Donald Trump announced that ...</td>\n",
              "      <td>News</td>\n",
              "      <td>December 29, 2017</td>\n",
              "    </tr>\n",
              "    <tr>\n",
              "      <th>4</th>\n",
              "      <td>Pope Francis Just Called Out Donald Trump Dur...</td>\n",
              "      <td>Pope Francis used his annual Christmas Day mes...</td>\n",
              "      <td>News</td>\n",
              "      <td>December 25, 2017</td>\n",
              "    </tr>\n",
              "  </tbody>\n",
              "</table>\n",
              "</div>"
            ],
            "text/plain": [
              "                                               title   \n",
              "0   Donald Trump Sends Out Embarrassing New Year’...  \\\n",
              "1   Drunk Bragging Trump Staffer Started Russian ...   \n",
              "2   Sheriff David Clarke Becomes An Internet Joke...   \n",
              "3   Trump Is So Obsessed He Even Has Obama’s Name...   \n",
              "4   Pope Francis Just Called Out Donald Trump Dur...   \n",
              "\n",
              "                                                text subject   \n",
              "0  Donald Trump just couldn t wish all Americans ...    News  \\\n",
              "1  House Intelligence Committee Chairman Devin Nu...    News   \n",
              "2  On Friday, it was revealed that former Milwauk...    News   \n",
              "3  On Christmas day, Donald Trump announced that ...    News   \n",
              "4  Pope Francis used his annual Christmas Day mes...    News   \n",
              "\n",
              "                date  \n",
              "0  December 31, 2017  \n",
              "1  December 31, 2017  \n",
              "2  December 30, 2017  \n",
              "3  December 29, 2017  \n",
              "4  December 25, 2017  "
            ]
          },
          "execution_count": 3,
          "metadata": {},
          "output_type": "execute_result"
        }
      ],
      "source": [
        "fakeData.head()\n"
      ]
    },
    {
      "cell_type": "code",
      "execution_count": 4,
      "metadata": {
        "id": "IcPnCvf52b-U"
      },
      "outputs": [],
      "source": [
        "trueData['real'] = 1\n",
        "fakeData['real'] = 0"
      ]
    },
    {
      "cell_type": "code",
      "execution_count": 5,
      "metadata": {
        "colab": {
          "base_uri": "https://localhost:8080/",
          "height": 206
        },
        "id": "vPSNpgqr5VMF",
        "outputId": "42f14b81-e458-4849-cd80-5e7f5fa58b68"
      },
      "outputs": [
        {
          "data": {
            "text/html": [
              "<div>\n",
              "<style scoped>\n",
              "    .dataframe tbody tr th:only-of-type {\n",
              "        vertical-align: middle;\n",
              "    }\n",
              "\n",
              "    .dataframe tbody tr th {\n",
              "        vertical-align: top;\n",
              "    }\n",
              "\n",
              "    .dataframe thead th {\n",
              "        text-align: right;\n",
              "    }\n",
              "</style>\n",
              "<table border=\"1\" class=\"dataframe\">\n",
              "  <thead>\n",
              "    <tr style=\"text-align: right;\">\n",
              "      <th></th>\n",
              "      <th>title</th>\n",
              "      <th>text</th>\n",
              "      <th>subject</th>\n",
              "      <th>date</th>\n",
              "      <th>real</th>\n",
              "    </tr>\n",
              "  </thead>\n",
              "  <tbody>\n",
              "    <tr>\n",
              "      <th>0</th>\n",
              "      <td>As U.S. budget fight looms, Republicans flip t...</td>\n",
              "      <td>WASHINGTON (Reuters) - The head of a conservat...</td>\n",
              "      <td>politicsNews</td>\n",
              "      <td>December 31, 2017</td>\n",
              "      <td>1</td>\n",
              "    </tr>\n",
              "    <tr>\n",
              "      <th>1</th>\n",
              "      <td>U.S. military to accept transgender recruits o...</td>\n",
              "      <td>WASHINGTON (Reuters) - Transgender people will...</td>\n",
              "      <td>politicsNews</td>\n",
              "      <td>December 29, 2017</td>\n",
              "      <td>1</td>\n",
              "    </tr>\n",
              "    <tr>\n",
              "      <th>2</th>\n",
              "      <td>Senior U.S. Republican senator: 'Let Mr. Muell...</td>\n",
              "      <td>WASHINGTON (Reuters) - The special counsel inv...</td>\n",
              "      <td>politicsNews</td>\n",
              "      <td>December 31, 2017</td>\n",
              "      <td>1</td>\n",
              "    </tr>\n",
              "    <tr>\n",
              "      <th>3</th>\n",
              "      <td>FBI Russia probe helped by Australian diplomat...</td>\n",
              "      <td>WASHINGTON (Reuters) - Trump campaign adviser ...</td>\n",
              "      <td>politicsNews</td>\n",
              "      <td>December 30, 2017</td>\n",
              "      <td>1</td>\n",
              "    </tr>\n",
              "    <tr>\n",
              "      <th>4</th>\n",
              "      <td>Trump wants Postal Service to charge 'much mor...</td>\n",
              "      <td>SEATTLE/WASHINGTON (Reuters) - President Donal...</td>\n",
              "      <td>politicsNews</td>\n",
              "      <td>December 29, 2017</td>\n",
              "      <td>1</td>\n",
              "    </tr>\n",
              "  </tbody>\n",
              "</table>\n",
              "</div>"
            ],
            "text/plain": [
              "                                               title   \n",
              "0  As U.S. budget fight looms, Republicans flip t...  \\\n",
              "1  U.S. military to accept transgender recruits o...   \n",
              "2  Senior U.S. Republican senator: 'Let Mr. Muell...   \n",
              "3  FBI Russia probe helped by Australian diplomat...   \n",
              "4  Trump wants Postal Service to charge 'much mor...   \n",
              "\n",
              "                                                text       subject   \n",
              "0  WASHINGTON (Reuters) - The head of a conservat...  politicsNews  \\\n",
              "1  WASHINGTON (Reuters) - Transgender people will...  politicsNews   \n",
              "2  WASHINGTON (Reuters) - The special counsel inv...  politicsNews   \n",
              "3  WASHINGTON (Reuters) - Trump campaign adviser ...  politicsNews   \n",
              "4  SEATTLE/WASHINGTON (Reuters) - President Donal...  politicsNews   \n",
              "\n",
              "                 date  real  \n",
              "0  December 31, 2017      1  \n",
              "1  December 29, 2017      1  \n",
              "2  December 31, 2017      1  \n",
              "3  December 30, 2017      1  \n",
              "4  December 29, 2017      1  "
            ]
          },
          "execution_count": 5,
          "metadata": {},
          "output_type": "execute_result"
        }
      ],
      "source": [
        "trueData.head()\n"
      ]
    },
    {
      "cell_type": "code",
      "execution_count": 6,
      "metadata": {
        "id": "4zpKyslp5ZA6"
      },
      "outputs": [],
      "source": [
        "df=pd.concat([fakeData,trueData])"
      ]
    },
    {
      "cell_type": "code",
      "execution_count": 7,
      "metadata": {
        "colab": {
          "base_uri": "https://localhost:8080/"
        },
        "id": "qBD_JVBE8jZs",
        "outputId": "b497fe8c-6acf-4604-b754-1fe82f50edac"
      },
      "outputs": [
        {
          "data": {
            "text/plain": [
              "real\n",
              "0    23481\n",
              "1    21417\n",
              "Name: count, dtype: int64"
            ]
          },
          "execution_count": 7,
          "metadata": {},
          "output_type": "execute_result"
        }
      ],
      "source": [
        "df.real.value_counts()\n"
      ]
    },
    {
      "cell_type": "code",
      "execution_count": 10,
      "metadata": {
        "colab": {
          "base_uri": "https://localhost:8080/"
        },
        "id": "NfdiETeQ8nlW",
        "outputId": "a1f5154a-fb99-4229-9617-c6c4f4697da9"
      },
      "outputs": [
        {
          "data": {
            "text/plain": [
              "politicsNews       11272\n",
              "worldnews          10145\n",
              "News                9050\n",
              "politics            6841\n",
              "left-news           4459\n",
              "Government News     1570\n",
              "US_News              783\n",
              "Middle-east          778\n",
              "Name: subject, dtype: int64"
            ]
          },
          "execution_count": 10,
          "metadata": {},
          "output_type": "execute_result"
        }
      ],
      "source": [
        "df.subject.value_counts()"
      ]
    },
    {
      "attachments": {},
      "cell_type": "markdown",
      "metadata": {
        "id": "5VWfofAQ0qtE"
      },
      "source": [
        "#### Data Preprocessing"
      ]
    },
    {
      "cell_type": "code",
      "execution_count": 8,
      "metadata": {
        "colab": {
          "base_uri": "https://localhost:8080/",
          "height": 641
        },
        "id": "_P4EGkp684-X",
        "outputId": "53ce3076-0ad5-449d-a419-27969e0dda1e"
      },
      "outputs": [
        {
          "data": {
            "text/html": [
              "<div>\n",
              "<style scoped>\n",
              "    .dataframe tbody tr th:only-of-type {\n",
              "        vertical-align: middle;\n",
              "    }\n",
              "\n",
              "    .dataframe tbody tr th {\n",
              "        vertical-align: top;\n",
              "    }\n",
              "\n",
              "    .dataframe thead th {\n",
              "        text-align: right;\n",
              "    }\n",
              "</style>\n",
              "<table border=\"1\" class=\"dataframe\">\n",
              "  <thead>\n",
              "    <tr style=\"text-align: right;\">\n",
              "      <th></th>\n",
              "      <th>title</th>\n",
              "      <th>text</th>\n",
              "      <th>subject</th>\n",
              "      <th>date</th>\n",
              "      <th>real</th>\n",
              "      <th>cleaned_data</th>\n",
              "    </tr>\n",
              "  </thead>\n",
              "  <tbody>\n",
              "    <tr>\n",
              "      <th>0</th>\n",
              "      <td>Donald Trump Sends Out Embarrassing New Year’...</td>\n",
              "      <td>Donald Trump just couldn t wish all Americans ...</td>\n",
              "      <td>News</td>\n",
              "      <td>December 31, 2017</td>\n",
              "      <td>0</td>\n",
              "      <td>donald trump wish american happy new year leav...</td>\n",
              "    </tr>\n",
              "    <tr>\n",
              "      <th>1</th>\n",
              "      <td>Drunk Bragging Trump Staffer Started Russian ...</td>\n",
              "      <td>House Intelligence Committee Chairman Devin Nu...</td>\n",
              "      <td>News</td>\n",
              "      <td>December 31, 2017</td>\n",
              "      <td>0</td>\n",
              "      <td>house intelligence committee chairman devin nu...</td>\n",
              "    </tr>\n",
              "    <tr>\n",
              "      <th>2</th>\n",
              "      <td>Sheriff David Clarke Becomes An Internet Joke...</td>\n",
              "      <td>On Friday, it was revealed that former Milwauk...</td>\n",
              "      <td>News</td>\n",
              "      <td>December 30, 2017</td>\n",
              "      <td>0</td>\n",
              "      <td>friday revealed former milwaukee sheriff david...</td>\n",
              "    </tr>\n",
              "    <tr>\n",
              "      <th>3</th>\n",
              "      <td>Trump Is So Obsessed He Even Has Obama’s Name...</td>\n",
              "      <td>On Christmas day, Donald Trump announced that ...</td>\n",
              "      <td>News</td>\n",
              "      <td>December 29, 2017</td>\n",
              "      <td>0</td>\n",
              "      <td>christmas day donald trump announced would bac...</td>\n",
              "    </tr>\n",
              "    <tr>\n",
              "      <th>4</th>\n",
              "      <td>Pope Francis Just Called Out Donald Trump Dur...</td>\n",
              "      <td>Pope Francis used his annual Christmas Day mes...</td>\n",
              "      <td>News</td>\n",
              "      <td>December 25, 2017</td>\n",
              "      <td>0</td>\n",
              "      <td>pope francis used annual christmas day message...</td>\n",
              "    </tr>\n",
              "    <tr>\n",
              "      <th>...</th>\n",
              "      <td>...</td>\n",
              "      <td>...</td>\n",
              "      <td>...</td>\n",
              "      <td>...</td>\n",
              "      <td>...</td>\n",
              "      <td>...</td>\n",
              "    </tr>\n",
              "    <tr>\n",
              "      <th>21412</th>\n",
              "      <td>'Fully committed' NATO backs new U.S. approach...</td>\n",
              "      <td>BRUSSELS (Reuters) - NATO allies on Tuesday we...</td>\n",
              "      <td>worldnews</td>\n",
              "      <td>August 22, 2017</td>\n",
              "      <td>1</td>\n",
              "      <td>brussels reuters nato ally tuesday welcomed pr...</td>\n",
              "    </tr>\n",
              "    <tr>\n",
              "      <th>21413</th>\n",
              "      <td>LexisNexis withdrew two products from Chinese ...</td>\n",
              "      <td>LONDON (Reuters) - LexisNexis, a provider of l...</td>\n",
              "      <td>worldnews</td>\n",
              "      <td>August 22, 2017</td>\n",
              "      <td>1</td>\n",
              "      <td>london reuters lexisnexis provider legal regul...</td>\n",
              "    </tr>\n",
              "    <tr>\n",
              "      <th>21414</th>\n",
              "      <td>Minsk cultural hub becomes haven from authorities</td>\n",
              "      <td>MINSK (Reuters) - In the shadow of disused Sov...</td>\n",
              "      <td>worldnews</td>\n",
              "      <td>August 22, 2017</td>\n",
              "      <td>1</td>\n",
              "      <td>minsk reuters shadow disused soviet era factor...</td>\n",
              "    </tr>\n",
              "    <tr>\n",
              "      <th>21415</th>\n",
              "      <td>Vatican upbeat on possibility of Pope Francis ...</td>\n",
              "      <td>MOSCOW (Reuters) - Vatican Secretary of State ...</td>\n",
              "      <td>worldnews</td>\n",
              "      <td>August 22, 2017</td>\n",
              "      <td>1</td>\n",
              "      <td>moscow reuters vatican secretary state cardina...</td>\n",
              "    </tr>\n",
              "    <tr>\n",
              "      <th>21416</th>\n",
              "      <td>Indonesia to buy $1.14 billion worth of Russia...</td>\n",
              "      <td>JAKARTA (Reuters) - Indonesia will buy 11 Sukh...</td>\n",
              "      <td>worldnews</td>\n",
              "      <td>August 22, 2017</td>\n",
              "      <td>1</td>\n",
              "      <td>jakarta reuters indonesia buy sukhoi fighter j...</td>\n",
              "    </tr>\n",
              "  </tbody>\n",
              "</table>\n",
              "<p>44898 rows × 6 columns</p>\n",
              "</div>"
            ],
            "text/plain": [
              "                                                   title   \n",
              "0       Donald Trump Sends Out Embarrassing New Year’...  \\\n",
              "1       Drunk Bragging Trump Staffer Started Russian ...   \n",
              "2       Sheriff David Clarke Becomes An Internet Joke...   \n",
              "3       Trump Is So Obsessed He Even Has Obama’s Name...   \n",
              "4       Pope Francis Just Called Out Donald Trump Dur...   \n",
              "...                                                  ...   \n",
              "21412  'Fully committed' NATO backs new U.S. approach...   \n",
              "21413  LexisNexis withdrew two products from Chinese ...   \n",
              "21414  Minsk cultural hub becomes haven from authorities   \n",
              "21415  Vatican upbeat on possibility of Pope Francis ...   \n",
              "21416  Indonesia to buy $1.14 billion worth of Russia...   \n",
              "\n",
              "                                                    text    subject   \n",
              "0      Donald Trump just couldn t wish all Americans ...       News  \\\n",
              "1      House Intelligence Committee Chairman Devin Nu...       News   \n",
              "2      On Friday, it was revealed that former Milwauk...       News   \n",
              "3      On Christmas day, Donald Trump announced that ...       News   \n",
              "4      Pope Francis used his annual Christmas Day mes...       News   \n",
              "...                                                  ...        ...   \n",
              "21412  BRUSSELS (Reuters) - NATO allies on Tuesday we...  worldnews   \n",
              "21413  LONDON (Reuters) - LexisNexis, a provider of l...  worldnews   \n",
              "21414  MINSK (Reuters) - In the shadow of disused Sov...  worldnews   \n",
              "21415  MOSCOW (Reuters) - Vatican Secretary of State ...  worldnews   \n",
              "21416  JAKARTA (Reuters) - Indonesia will buy 11 Sukh...  worldnews   \n",
              "\n",
              "                    date  real   \n",
              "0      December 31, 2017     0  \\\n",
              "1      December 31, 2017     0   \n",
              "2      December 30, 2017     0   \n",
              "3      December 29, 2017     0   \n",
              "4      December 25, 2017     0   \n",
              "...                  ...   ...   \n",
              "21412   August 22, 2017      1   \n",
              "21413   August 22, 2017      1   \n",
              "21414   August 22, 2017      1   \n",
              "21415   August 22, 2017      1   \n",
              "21416   August 22, 2017      1   \n",
              "\n",
              "                                            cleaned_data  \n",
              "0      donald trump wish american happy new year leav...  \n",
              "1      house intelligence committee chairman devin nu...  \n",
              "2      friday revealed former milwaukee sheriff david...  \n",
              "3      christmas day donald trump announced would bac...  \n",
              "4      pope francis used annual christmas day message...  \n",
              "...                                                  ...  \n",
              "21412  brussels reuters nato ally tuesday welcomed pr...  \n",
              "21413  london reuters lexisnexis provider legal regul...  \n",
              "21414  minsk reuters shadow disused soviet era factor...  \n",
              "21415  moscow reuters vatican secretary state cardina...  \n",
              "21416  jakarta reuters indonesia buy sukhoi fighter j...  \n",
              "\n",
              "[44898 rows x 6 columns]"
            ]
          },
          "execution_count": 8,
          "metadata": {},
          "output_type": "execute_result"
        }
      ],
      "source": [
        "def cleanData(row):\n",
        "  row = row.lower() #Convert all text to lowercase\n",
        "  row = re.sub('[^a-zA-Z]', ' ', row) #Remove punctuation, special characters etc\n",
        "  token = row.split()\n",
        "  removeStop= [i for i in token if i not in stopwords] #Remove all stopwords\n",
        "  lemm_text = [wordnet_lemmatizer.lemmatize(word) for word in removeStop] #Lemmatize the words\n",
        "  cleaned_string = \"\"\n",
        "  for word in lemm_text:\n",
        "    cleaned_string+=word\n",
        "    cleaned_string+= ' '\n",
        "  return cleaned_string\n",
        "df['cleaned_data'] = df['text'].apply(lambda x:cleanData(x))\n",
        "df"
      ]
    },
    {
      "cell_type": "code",
      "execution_count": 11,
      "metadata": {
        "id": "fGZF1nS9I_my"
      },
      "outputs": [],
      "source": []
    },
    {
      "attachments": {},
      "cell_type": "markdown",
      "metadata": {
        "id": "wl-mOL3h07Dr"
      },
      "source": [
        "#### Split the data into training and testing data"
      ]
    },
    {
      "cell_type": "code",
      "execution_count": 9,
      "metadata": {
        "colab": {
          "base_uri": "https://localhost:8080/"
        },
        "id": "TGqSocpkDwQH",
        "outputId": "fa5958ff-2ace-4b58-f16f-773fd19b4f37"
      },
      "outputs": [
        {
          "data": {
            "text/plain": [
              "22216    st century wire say ben stein reputable profes...\n",
              "4436     washington reuters u president donald trump re...\n",
              "1526     reuters puerto rico governor ricardo rossello ...\n",
              "1377     monday donald trump embarrassed country accide...\n",
              "8995     glasgow scotland reuters u presidential candid...\n",
              "                               ...                        \n",
              "18638    riyadh reuters saudi arabia public prosecutor ...\n",
              "4068     donald trump liar say anything never ending qu...\n",
              "22498    st century wire say learned week u president b...\n",
              "14658    course secretary state everything control repo...\n",
              "15236     nuke nuke crazy people clue wakey wakey america \n",
              "Name: cleaned_data, Length: 8980, dtype: object"
            ]
          },
          "execution_count": 9,
          "metadata": {},
          "output_type": "execute_result"
        }
      ],
      "source": [
        "from sklearn.model_selection import train_test_split\n",
        "X_train, X_test, Y_train, Y_test = train_test_split(df['cleaned_data'], df['real'], test_size=0.2, random_state=42)\n",
        "X_test"
      ]
    },
    {
      "attachments": {},
      "cell_type": "markdown",
      "metadata": {
        "id": "aHxUmmJ21VSG"
      },
      "source": [
        "#### Vectorizing the data using TFIDF vectorizer"
      ]
    },
    {
      "cell_type": "code",
      "execution_count": 10,
      "metadata": {
        "colab": {
          "base_uri": "https://localhost:8080/"
        },
        "id": "HL7r40fVN-xX",
        "outputId": "c83b07dd-2bf1-4c4f-b23f-780622ac39e8"
      },
      "outputs": [
        {
          "data": {
            "text/plain": [
              "<35918x97549 sparse matrix of type '<class 'numpy.float64'>'\n",
              "\twith 5639060 stored elements in Compressed Sparse Row format>"
            ]
          },
          "execution_count": 10,
          "metadata": {},
          "output_type": "execute_result"
        }
      ],
      "source": [
        "from sklearn.feature_extraction.text import TfidfVectorizer\n",
        "vectorizer = TfidfVectorizer(lowercase = False)\n",
        "vec_train_data = vectorizer.fit_transform(X_train)\n",
        "vec_test_data = vectorizer.transform(X_test)\n",
        "vec_train_data\n"
      ]
    },
    {
      "attachments": {},
      "cell_type": "markdown",
      "metadata": {
        "id": "gjYmgqyE1h2p"
      },
      "source": [
        "#### Multinomial Naive Bayes Classifier"
      ]
    },
    {
      "cell_type": "code",
      "execution_count": 11,
      "metadata": {
        "id": "qfAJk0vR5-so"
      },
      "outputs": [],
      "source": [
        "from sklearn.naive_bayes import MultinomialNB\n",
        "MNB_clf = MultinomialNB()\n",
        "MNB_clf.fit(vec_train_data, Y_train)\n",
        "MNB_pred = MNB_clf.predict(vec_test_data)\n"
      ]
    },
    {
      "cell_type": "code",
      "execution_count": 12,
      "metadata": {
        "colab": {
          "base_uri": "https://localhost:8080/"
        },
        "id": "bWHH9gwd6SVi",
        "outputId": "c4b6faf2-4768-4191-90a3-d17d6065c392"
      },
      "outputs": [
        {
          "data": {
            "text/plain": [
              "93.44097995545657"
            ]
          },
          "execution_count": 12,
          "metadata": {},
          "output_type": "execute_result"
        }
      ],
      "source": [
        "from sklearn.metrics import accuracy_score\n",
        "MNB_accuracy = accuracy_score(Y_test, MNB_pred)*100\n",
        "MNB_accuracy\n"
      ]
    },
    {
      "attachments": {},
      "cell_type": "markdown",
      "metadata": {
        "id": "_e8aiZh_1n2s"
      },
      "source": [
        "#### Logistic Regression Classifier"
      ]
    },
    {
      "cell_type": "code",
      "execution_count": 13,
      "metadata": {
        "colab": {
          "base_uri": "https://localhost:8080/"
        },
        "id": "xBhjt9T4JcdR",
        "outputId": "acda1af0-67a1-49c4-cac0-ddf7ee531a2a"
      },
      "outputs": [
        {
          "data": {
            "text/plain": [
              "98.64142538975501"
            ]
          },
          "execution_count": 13,
          "metadata": {},
          "output_type": "execute_result"
        }
      ],
      "source": [
        "from sklearn.datasets import load_iris\n",
        "from sklearn.linear_model import LogisticRegression\n",
        "# X, y = load_iris(return_X_y=True)\n",
        "LR_clf = LogisticRegression()\n",
        "LR_clf.fit(vec_train_data, Y_train)\n",
        "LR_pred = LR_clf.predict(vec_test_data)\n",
        "LR_accuracy = accuracy_score(Y_test, LR_pred)*100\n",
        "LR_accuracy\n"
      ]
    },
    {
      "attachments": {},
      "cell_type": "markdown",
      "metadata": {
        "id": "JdUi-v_I1tuF"
      },
      "source": [
        "#### Linear SVM Classifier"
      ]
    },
    {
      "cell_type": "code",
      "execution_count": 14,
      "metadata": {
        "colab": {
          "base_uri": "https://localhost:8080/"
        },
        "id": "Sz06--RtMeE4",
        "outputId": "27791155-e8e1-43b9-f3f7-605696c51acd"
      },
      "outputs": [
        {
          "data": {
            "text/plain": [
              "99.47661469933185"
            ]
          },
          "execution_count": 14,
          "metadata": {},
          "output_type": "execute_result"
        }
      ],
      "source": [
        "from sklearn.svm import LinearSVC\n",
        "\n",
        "SVM_clf = LinearSVC()\n",
        "SVM_clf.fit(vec_train_data, Y_train)\n",
        "SVM_pred = SVM_clf.predict(vec_test_data)\n",
        "SVM_accuracy = accuracy_score(Y_test, SVM_pred)*100\n",
        "SVM_accuracy"
      ]
    },
    {
      "attachments": {},
      "cell_type": "markdown",
      "metadata": {
        "id": "pLiwH90e1sk9"
      },
      "source": [
        "Accuracy Comparison\n"
      ]
    },
    {
      "cell_type": "code",
      "execution_count": 15,
      "metadata": {
        "colab": {
          "base_uri": "https://localhost:8080/",
          "height": 279
        },
        "id": "61rCAgBSO65E",
        "outputId": "64dd667f-633f-4af1-ae2a-ebe2e9304e80"
      },
      "outputs": [
        {
          "data": {
            "image/png": "[encoded data removed]",
            "text/plain": [
              "<Figure size 432x288 with 1 Axes>"
            ]
          },
          "metadata": {
            "needs_background": "light"
          },
          "output_type": "display_data"
        }
      ],
      "source": [
        "import matplotlib.pyplot as plt\n",
        "x = ['Naive Bayes', 'Logistic Regression', 'Linear SVM']\n",
        "y = [MNB_accuracy, LR_accuracy, SVM_accuracy]\n",
        "plt.bar(x,y)\n",
        "plt.xlabel('Algorithm')\n",
        "plt.ylabel('Accuracy')\n",
        "plt.show()"
      ]
    },
    {
      "attachments": {},
      "cell_type": "markdown",
      "metadata": {
        "id": "hUAqheV-la4U"
      },
      "source": [
        "Confusion Matrix"
      ]
    },
    {
      "cell_type": "code",
      "execution_count": 16,
      "metadata": {
        "colab": {
          "base_uri": "https://localhost:8080/",
          "height": 295
        },
        "id": "9Q3r55Y8PnAC",
        "outputId": "d73b3ae0-368b-4a1d-ca55-32228bd16d35"
      },
      "outputs": [
        {
          "data": {
            "image/png": "[encoded data removed]",
            "text/plain": [
              "<Figure size 432x288 with 2 Axes>"
            ]
          },
          "metadata": {
            "needs_background": "light"
          },
          "output_type": "display_data"
        }
      ],
      "source": [
        "from sklearn.metrics import confusion_matrix\n",
        "import seaborn as sns\n",
        "MNB_confusion_matrix = confusion_matrix(Y_test, MNB_pred)\n",
        "\n",
        "ax = sns.heatmap(MNB_confusion_matrix/np.sum(MNB_confusion_matrix),fmt='.2%', annot=True, cmap='Blues')\n",
        "\n",
        "ax.set_title('Naive Bayes');\n",
        "ax.set_xlabel('Predicted')\n",
        "ax.set_ylabel('Actual');\n",
        "ax.xaxis.set_ticklabels(['False Negative','True Negative'])\n",
        "ax.yaxis.set_ticklabels(['True Positive','False Positive' ])\n",
        "plt.show()\n",
        "\n"
      ]
    },
    {
      "cell_type": "code",
      "execution_count": 20,
      "metadata": {
        "colab": {
          "base_uri": "https://localhost:8080/",
          "height": 295
        },
        "id": "sPtdMpgtCYju",
        "outputId": "756e4c16-d1fe-455c-a314-429c9ff68c78"
      },
      "outputs": [
        {
          "data": {
            "image/png": "[encoded data removed]",
            "text/plain": [
              "<Figure size 432x288 with 2 Axes>"
            ]
          },
          "metadata": {
            "needs_background": "light"
          },
          "output_type": "display_data"
        }
      ],
      "source": [
        "LR_confusion_matrix = confusion_matrix(Y_test, LR_pred)\n",
        "\n",
        "ax = sns.heatmap(LR_confusion_matrix/np.sum(LR_confusion_matrix),fmt='.2%', annot=True, cmap='Blues')\n",
        "\n",
        "ax.set_title('Logistic Regression');\n",
        "ax.set_xlabel('Predicted')\n",
        "ax.set_ylabel('Actual');\n",
        "ax.xaxis.set_ticklabels(['False Negative','True Negative'])\n",
        "ax.yaxis.set_ticklabels(['True Positive','False Positive' ])\n",
        "plt.show()"
      ]
    },
    {
      "cell_type": "code",
      "execution_count": 17,
      "metadata": {
        "colab": {
          "base_uri": "https://localhost:8080/",
          "height": 295
        },
        "id": "SJXlDhINTiSU",
        "outputId": "5cf8f645-33f4-4e18-cf3b-9d674a521a04"
      },
      "outputs": [
        {
          "data": {
            "image/png": "[encoded data removed]",
            "text/plain": [
              "<Figure size 432x288 with 2 Axes>"
            ]
          },
          "metadata": {
            "needs_background": "light"
          },
          "output_type": "display_data"
        }
      ],
      "source": [
        "SVM_confusion_matrix = confusion_matrix(Y_test, SVM_pred)\n",
        "\n",
        "ax = sns.heatmap(SVM_confusion_matrix/np.sum(SVM_confusion_matrix),fmt='.2%', annot=True, cmap='Blues')\n",
        "\n",
        "ax.set_title('Linear SVC');\n",
        "ax.set_xlabel('Predicted')\n",
        "ax.set_ylabel('Actual');\n",
        "ax.xaxis.set_ticklabels(['False Negative','True Negative'])\n",
        "ax.yaxis.set_ticklabels(['True Positive','False Positive' ])\n",
        "plt.show()"
      ]
    },
    {
      "cell_type": "code",
      "execution_count": 18,
      "metadata": {
        "colab": {
          "base_uri": "https://localhost:8080/"
        },
        "id": "_ofIutchRHCJ",
        "outputId": "d31803c8-f0c4-49f6-c97a-19cef9371700"
      },
      "outputs": [
        {
          "data": {
            "text/plain": [
              "array([0, 1, 1, ..., 1, 1, 0], dtype=int64)"
            ]
          },
          "execution_count": 18,
          "metadata": {},
          "output_type": "execute_result"
        }
      ],
      "source": [
        "from sklearn.pipeline import make_pipeline\n",
        "text_model=make_pipeline(TfidfVectorizer(),MultinomialNB())\n",
        "text_model.fit(X_train,Y_train)\n",
        "y_pred=text_model.predict(X_test)\n",
        "y_pred"
      ]
    },
    {
      "attachments": {},
      "cell_type": "markdown",
      "metadata": {
        "id": "qyJ2BKDFlfLv"
      },
      "source": [
        "StreamLit code begins here"
      ]
    },
    {
      "cell_type": "code",
      "execution_count": 19,
      "metadata": {
        "colab": {
          "base_uri": "https://localhost:8080/"
        },
        "id": "e3Q9PkhFTs-j",
        "outputId": "dcf011f8-7bfa-482c-ad1a-5987ad02846e"
      },
      "outputs": [
        {
          "data": {
            "text/plain": [
              "['MNB']"
            ]
          },
          "execution_count": 19,
          "metadata": {},
          "output_type": "execute_result"
        }
      ],
      "source": [
        "import joblib\n",
        "joblib.dump(text_model, 'MNB')"
      ]
    },
    {
      "cell_type": "code",
      "execution_count": 20,
      "metadata": {
        "colab": {
          "base_uri": "https://localhost:8080/"
        },
        "id": "LybNx0syQIX9",
        "outputId": "53eeba43-97fb-4133-f17c-cae92bed6f92"
      },
      "outputs": [
        {
          "name": "stdout",
          "output_type": "stream",
          "text": [
            "Overwriting app.py\n"
          ]
        }
      ],
      "source": [
        "%%writefile app.py\n",
        "import streamlit as st\n",
        "import joblib\n",
        "import pandas as pd\n",
        "import re\n",
        "import nltk\n",
        "nltk.download('stopwords')\n",
        "nltk.download('wordnet')\n",
        "stopwords = nltk.corpus.stopwords.words('english')\n",
        "from nltk.stem import WordNetLemmatizer\n",
        "wordnet_lemmatizer = WordNetLemmatizer()\n",
        "import numpy as np\n",
        "import matplotlib.pyplot as plt\n",
        "\n",
        "def cleanData(row):\n",
        "  row = row.lower() #Convert all text to lowercase\n",
        "  row = re.sub('[^a-zA-Z]', ' ', row) #Remove punctuation, special characters etc\n",
        "  token = row.split()\n",
        "  removeStop= [i for i in token if i not in stopwords] #Remove all stopwords\n",
        "  lemm_text = [wordnet_lemmatizer.lemmatize(word) for word in removeStop] #Lemmatize the words\n",
        "  cleaned_string = \"\"\n",
        "  for word in lemm_text:\n",
        "    cleaned_string+=word\n",
        "    cleaned_string+= ' '\n",
        "  return cleaned_string\n",
        "\n",
        "\n",
        "model = joblib.load('MNB')\n",
        "st.title(\"Fake News Detector\")\n",
        "ip = st.text_input(\"Enter the news: \")\n",
        "op = model.predict([cleanData(ip)])\n",
        "final  = ''\n",
        "if st.button('Predict'):\n",
        "  if op == 1:\n",
        "    final = 'Real News'\n",
        "  else:\n",
        "    final = 'Fake News'\n",
        "st.title(final)"
      ]
    },
    {
      "cell_type": "code",
      "execution_count": 25,
      "metadata": {
        "colab": {
          "base_uri": "https://localhost:8080/"
        },
        "id": "Dw4_bBETQYy8",
        "outputId": "99b410bc-f40a-43ca-f923-5d399465017c"
      },
      "outputs": [
        {
          "name": "stdout",
          "output_type": "stream",
          "text": [
            "\u001b[K     |████████████████████████████████| 10.1 MB 4.3 MB/s \n",
            "\u001b[K     |████████████████████████████████| 181 kB 76.3 MB/s \n",
            "\u001b[K     |████████████████████████████████| 4.3 MB 51.5 MB/s \n",
            "\u001b[K     |████████████████████████████████| 77 kB 6.4 MB/s \n",
            "\u001b[K     |████████████████████████████████| 164 kB 63.4 MB/s \n",
            "\u001b[K     |████████████████████████████████| 111 kB 61.0 MB/s \n",
            "\u001b[K     |████████████████████████████████| 63 kB 1.5 MB/s \n",
            "\u001b[K     |████████████████████████████████| 131 kB 36.2 MB/s \n",
            "\u001b[K     |████████████████████████████████| 793 kB 26.9 MB/s \n",
            "\u001b[K     |████████████████████████████████| 130 kB 67.2 MB/s \n",
            "\u001b[K     |████████████████████████████████| 428 kB 69.0 MB/s \n",
            "\u001b[K     |████████████████████████████████| 381 kB 60.5 MB/s \n",
            "\u001b[?25h  Building wheel for blinker (setup.py) ... \u001b[?25l\u001b[?25hdone\n",
            "  Building wheel for validators (setup.py) ... \u001b[?25l\u001b[?25hdone\n",
            "\u001b[31mERROR: pip's dependency resolver does not currently take into account all the packages that are installed. This behaviour is the source of the following dependency conflicts.\n",
            "jupyter-console 5.2.0 requires prompt-toolkit<2.0.0,>=1.0.0, but you have prompt-toolkit 3.0.29 which is incompatible.\n",
            "google-colab 1.0.0 requires ipykernel~=4.10, but you have ipykernel 6.13.0 which is incompatible.\n",
            "google-colab 1.0.0 requires ipython~=5.5.0, but you have ipython 7.33.0 which is incompatible.\n",
            "google-colab 1.0.0 requires tornado~=5.1.0; python_version >= \"3.0\", but you have tornado 6.1 which is incompatible.\u001b[0m\n"
          ]
        }
      ],
      "source": []
    },
    {
      "cell_type": "code",
      "execution_count": 21,
      "metadata": {
        "colab": {
          "base_uri": "https://localhost:8080/"
        },
        "id": "3M_FLJxARrhz",
        "outputId": "c5b6d994-84b8-4624-db30-25689d8a102b"
      },
      "outputs": [
        {
          "name": "stdout",
          "output_type": "stream",
          "text": [
            "^C\n"
          ]
        },
        {
          "name": "stdout",
          "output_type": "stream",
          "text": [
            "\n",
            "  You can now view your Streamlit app in your browser.\n",
            "\n",
            "  Local URL: http://localhost:8501\n",
            "  Network URL: http://192.168.187.198:8501\n",
            "\n"
          ]
        },
        {
          "name": "stderr",
          "output_type": "stream",
          "text": [
            "[nltk_data] Downloading package stopwords to\n",
            "[nltk_data]     C:\\Users\\Aisiri\\AppData\\Roaming\\nltk_data...\n",
            "[nltk_data]   Package stopwords is already up-to-date!\n",
            "[nltk_data] Downloading package wordnet to\n",
            "[nltk_data]     C:\\Users\\Aisiri\\AppData\\Roaming\\nltk_data...\n",
            "[nltk_data]   Package wordnet is already up-to-date!\n",
            "[nltk_data] Downloading package stopwords to\n",
            "[nltk_data]     C:\\Users\\Aisiri\\AppData\\Roaming\\nltk_data...\n",
            "[nltk_data]   Package stopwords is already up-to-date!\n",
            "[nltk_data] Downloading package wordnet to\n",
            "[nltk_data]     C:\\Users\\Aisiri\\AppData\\Roaming\\nltk_data...\n",
            "[nltk_data]   Package wordnet is already up-to-date!\n",
            "[nltk_data] Downloading package stopwords to\n",
            "[nltk_data]     C:\\Users\\Aisiri\\AppData\\Roaming\\nltk_data...\n",
            "[nltk_data]   Package stopwords is already up-to-date!\n",
            "[nltk_data] Downloading package wordnet to\n",
            "[nltk_data]     C:\\Users\\Aisiri\\AppData\\Roaming\\nltk_data...\n",
            "[nltk_data]   Package wordnet is already up-to-date!\n",
            "[nltk_data] Downloading package stopwords to\n",
            "[nltk_data]     C:\\Users\\Aisiri\\AppData\\Roaming\\nltk_data...\n",
            "[nltk_data]   Package stopwords is already up-to-date!\n",
            "[nltk_data] Downloading package wordnet to\n",
            "[nltk_data]     C:\\Users\\Aisiri\\AppData\\Roaming\\nltk_data...\n",
            "[nltk_data]   Package wordnet is already up-to-date!\n",
            "[nltk_data] Downloading package stopwords to\n",
            "[nltk_data]     C:\\Users\\Aisiri\\AppData\\Roaming\\nltk_data...\n",
            "[nltk_data]   Package stopwords is already up-to-date!\n",
            "[nltk_data] Downloading package wordnet to\n",
            "[nltk_data]     C:\\Users\\Aisiri\\AppData\\Roaming\\nltk_data...\n",
            "[nltk_data]   Package wordnet is already up-to-date!\n",
            "[nltk_data] Downloading package stopwords to\n",
            "[nltk_data]     C:\\Users\\Aisiri\\AppData\\Roaming\\nltk_data...\n",
            "[nltk_data]   Package stopwords is already up-to-date!\n",
            "[nltk_data] Downloading package wordnet to\n",
            "[nltk_data]     C:\\Users\\Aisiri\\AppData\\Roaming\\nltk_data...\n",
            "[nltk_data]   Package wordnet is already up-to-date!\n",
            "[nltk_data] Downloading package stopwords to\n",
            "[nltk_data]     C:\\Users\\Aisiri\\AppData\\Roaming\\nltk_data...\n",
            "[nltk_data]   Package stopwords is already up-to-date!\n",
            "[nltk_data] Downloading package wordnet to\n",
            "[nltk_data]     C:\\Users\\Aisiri\\AppData\\Roaming\\nltk_data...\n",
            "[nltk_data]   Package wordnet is already up-to-date!\n",
            "[nltk_data] Downloading package stopwords to\n",
            "[nltk_data]     C:\\Users\\Aisiri\\AppData\\Roaming\\nltk_data...\n",
            "[nltk_data]   Package stopwords is already up-to-date!\n",
            "[nltk_data] Downloading package wordnet to\n",
            "[nltk_data]     C:\\Users\\Aisiri\\AppData\\Roaming\\nltk_data...\n",
            "[nltk_data]   Package wordnet is already up-to-date!\n",
            "[nltk_data] Downloading package stopwords to\n",
            "[nltk_data]     C:\\Users\\Aisiri\\AppData\\Roaming\\nltk_data...\n",
            "[nltk_data]   Package stopwords is already up-to-date!\n",
            "[nltk_data] Downloading package wordnet to\n",
            "[nltk_data]     C:\\Users\\Aisiri\\AppData\\Roaming\\nltk_data...\n",
            "[nltk_data]   Package wordnet is already up-to-date!\n",
            "[nltk_data] Downloading package stopwords to\n",
            "[nltk_data]     C:\\Users\\Aisiri\\AppData\\Roaming\\nltk_data...\n",
            "[nltk_data]   Package stopwords is already up-to-date!\n",
            "[nltk_data] Downloading package wordnet to\n",
            "[nltk_data]     C:\\Users\\Aisiri\\AppData\\Roaming\\nltk_data...\n",
            "[nltk_data]   Package wordnet is already up-to-date!\n",
            "[nltk_data] Downloading package stopwords to\n",
            "[nltk_data]     C:\\Users\\Aisiri\\AppData\\Roaming\\nltk_data...\n",
            "[nltk_data]   Package stopwords is already up-to-date!\n",
            "[nltk_data] Downloading package wordnet to\n",
            "[nltk_data]     C:\\Users\\Aisiri\\AppData\\Roaming\\nltk_data...\n",
            "[nltk_data]   Package wordnet is already up-to-date!\n",
            "[nltk_data] Downloading package stopwords to\n",
            "[nltk_data]     C:\\Users\\Aisiri\\AppData\\Roaming\\nltk_data...\n",
            "[nltk_data]   Package stopwords is already up-to-date!\n",
            "[nltk_data] Downloading package wordnet to\n",
            "[nltk_data]     C:\\Users\\Aisiri\\AppData\\Roaming\\nltk_data...\n",
            "[nltk_data]   Package wordnet is already up-to-date!\n",
            "[nltk_data] Downloading package stopwords to\n",
            "[nltk_data]     C:\\Users\\Aisiri\\AppData\\Roaming\\nltk_data...\n",
            "[nltk_data]   Package stopwords is already up-to-date!\n",
            "[nltk_data] Downloading package wordnet to\n",
            "[nltk_data]     C:\\Users\\Aisiri\\AppData\\Roaming\\nltk_data...\n",
            "[nltk_data]   Package wordnet is already up-to-date!\n",
            "[nltk_data] Downloading package stopwords to\n",
            "[nltk_data]     C:\\Users\\Aisiri\\AppData\\Roaming\\nltk_data...\n",
            "[nltk_data]   Package stopwords is already up-to-date!\n",
            "[nltk_data] Downloading package wordnet to\n",
            "[nltk_data]     C:\\Users\\Aisiri\\AppData\\Roaming\\nltk_data...\n",
            "[nltk_data]   Package wordnet is already up-to-date!\n",
            "[nltk_data] Downloading package stopwords to\n",
            "[nltk_data]     C:\\Users\\Aisiri\\AppData\\Roaming\\nltk_data...\n",
            "[nltk_data]   Package stopwords is already up-to-date!\n",
            "[nltk_data] Downloading package wordnet to\n",
            "[nltk_data]     C:\\Users\\Aisiri\\AppData\\Roaming\\nltk_data...\n",
            "[nltk_data]   Package wordnet is already up-to-date!\n",
            "[nltk_data] Downloading package stopwords to\n",
            "[nltk_data]     C:\\Users\\Aisiri\\AppData\\Roaming\\nltk_data...\n",
            "[nltk_data]   Package stopwords is already up-to-date!\n",
            "[nltk_data] Downloading package wordnet to\n",
            "[nltk_data]     C:\\Users\\Aisiri\\AppData\\Roaming\\nltk_data...\n",
            "[nltk_data]   Package wordnet is already up-to-date!\n",
            "[nltk_data] Downloading package stopwords to\n",
            "[nltk_data]     C:\\Users\\Aisiri\\AppData\\Roaming\\nltk_data...\n",
            "[nltk_data]   Package stopwords is already up-to-date!\n",
            "[nltk_data] Downloading package wordnet to\n",
            "[nltk_data]     C:\\Users\\Aisiri\\AppData\\Roaming\\nltk_data...\n",
            "[nltk_data]   Package wordnet is already up-to-date!\n",
            "[nltk_data] Downloading package stopwords to\n",
            "[nltk_data]     C:\\Users\\Aisiri\\AppData\\Roaming\\nltk_data...\n",
            "[nltk_data]   Package stopwords is already up-to-date!\n",
            "[nltk_data] Downloading package wordnet to\n",
            "[nltk_data]     C:\\Users\\Aisiri\\AppData\\Roaming\\nltk_data...\n",
            "[nltk_data]   Package wordnet is already up-to-date!\n",
            "[nltk_data] Downloading package stopwords to\n",
            "[nltk_data]     C:\\Users\\Aisiri\\AppData\\Roaming\\nltk_data...\n",
            "[nltk_data]   Package stopwords is already up-to-date!\n",
            "[nltk_data] Downloading package wordnet to\n",
            "[nltk_data]     C:\\Users\\Aisiri\\AppData\\Roaming\\nltk_data...\n",
            "[nltk_data]   Package wordnet is already up-to-date!\n",
            "[nltk_data] Downloading package stopwords to\n",
            "[nltk_data]     C:\\Users\\Aisiri\\AppData\\Roaming\\nltk_data...\n",
            "[nltk_data]   Package stopwords is already up-to-date!\n",
            "[nltk_data] Downloading package wordnet to\n",
            "[nltk_data]     C:\\Users\\Aisiri\\AppData\\Roaming\\nltk_data...\n",
            "[nltk_data]   Package wordnet is already up-to-date!\n",
            "[nltk_data] Downloading package stopwords to\n",
            "[nltk_data]     C:\\Users\\Aisiri\\AppData\\Roaming\\nltk_data...\n",
            "[nltk_data]   Package stopwords is already up-to-date!\n",
            "[nltk_data] Downloading package wordnet to\n",
            "[nltk_data]     C:\\Users\\Aisiri\\AppData\\Roaming\\nltk_data...\n",
            "[nltk_data]   Package wordnet is already up-to-date!\n",
            "[nltk_data] Downloading package stopwords to\n",
            "[nltk_data]     C:\\Users\\Aisiri\\AppData\\Roaming\\nltk_data...\n",
            "[nltk_data]   Package stopwords is already up-to-date!\n",
            "[nltk_data] Downloading package wordnet to\n",
            "[nltk_data]     C:\\Users\\Aisiri\\AppData\\Roaming\\nltk_data...\n",
            "[nltk_data]   Package wordnet is already up-to-date!\n",
            "[nltk_data] Downloading package stopwords to\n",
            "[nltk_data]     C:\\Users\\Aisiri\\AppData\\Roaming\\nltk_data...\n",
            "[nltk_data]   Package stopwords is already up-to-date!\n",
            "[nltk_data] Downloading package wordnet to\n",
            "[nltk_data]     C:\\Users\\Aisiri\\AppData\\Roaming\\nltk_data...\n",
            "[nltk_data]   Package wordnet is already up-to-date!\n",
            "[nltk_data] Downloading package stopwords to\n",
            "[nltk_data]     C:\\Users\\Aisiri\\AppData\\Roaming\\nltk_data...\n",
            "[nltk_data]   Package stopwords is already up-to-date!\n",
            "[nltk_data] Downloading package wordnet to\n",
            "[nltk_data]     C:\\Users\\Aisiri\\AppData\\Roaming\\nltk_data...\n",
            "[nltk_data]   Package wordnet is already up-to-date!\n",
            "[nltk_data] Downloading package stopwords to\n",
            "[nltk_data]     C:\\Users\\Aisiri\\AppData\\Roaming\\nltk_data...\n",
            "[nltk_data]   Package stopwords is already up-to-date!\n",
            "[nltk_data] Downloading package wordnet to\n",
            "[nltk_data]     C:\\Users\\Aisiri\\AppData\\Roaming\\nltk_data...\n",
            "[nltk_data]   Package wordnet is already up-to-date!\n",
            "[nltk_data] Downloading package stopwords to\n",
            "[nltk_data]     C:\\Users\\Aisiri\\AppData\\Roaming\\nltk_data...\n",
            "[nltk_data]   Package stopwords is already up-to-date!\n",
            "[nltk_data] Downloading package wordnet to\n",
            "[nltk_data]     C:\\Users\\Aisiri\\AppData\\Roaming\\nltk_data...\n",
            "[nltk_data]   Package wordnet is already up-to-date!\n",
            "[nltk_data] Downloading package stopwords to\n",
            "[nltk_data]     C:\\Users\\Aisiri\\AppData\\Roaming\\nltk_data...\n",
            "[nltk_data]   Package stopwords is already up-to-date!\n",
            "[nltk_data] Downloading package wordnet to\n",
            "[nltk_data]     C:\\Users\\Aisiri\\AppData\\Roaming\\nltk_data...\n",
            "[nltk_data]   Package wordnet is already up-to-date!\n"
          ]
        }
      ],
      "source": [
        "!streamlit run app.py"
      ]
    },
    {
      "cell_type": "code",
      "execution_count": 27,
      "metadata": {
        "colab": {
          "base_uri": "https://localhost:8080/",
          "height": 140
        },
        "id": "iWIUHr_rR28b",
        "outputId": "1f0e86bc-93d2-4901-c773-039c52e5103b"
      },
      "outputs": [
        {
          "data": {
            "application/vnd.google.colaboratory.intrinsic+json": {
              "type": "string"
            },
            "text/plain": [
              "'washington reuters u president donald trump removed chief strategist steve bannon national security council wednesday reversing controversial decision early year give political adviser unprecedented role security discussion trump overhaul nsc confirmed white house official also elevated general joseph dunford chairman joint chief staff dan coat director national intelligence head u intelligence agency official said change move nsc back core function supposed also appears mark victory national security adviser h r mcmaster told national security expert felt battle death bannon others white house staff vice president mike penny said bannon would continue play important role policy played shake routine natural evolution ensure national security council organized way best serf president resolving making difficult decision penny said fox news bannon said statement succeeded returning nsc back traditional role coordinating foreign policy rather running cited president barack obama national security adviser susan rice advocated change susan rice operationalized nsc last administration put nsc ensure de operationalized general mcmaster nsc back proper function said trump white house team grappled infighting intrigue hobbled young presidency recent day several senior u foreign policy national security official said mechanism shaping trump administration response pressing challenge syria north korea iran still place critic bannon role nsc said gave much weight decision making someone lacked foreign policy expertise bannon chief executive trump presidential campaign month leading election november respect represents trump america first nationalistic voice helping fuel anti washington fervor pushing president part way time mainstream republican joining trump administration bannon headed breitbart news right wing website u representative adam schiff ranking democrat house representative intelligence committee called shift nsc positive step help mcmaster gain control body politicized bannon involvement administration policy north korea china russia syria continues drift hope shake brings level strategic vision body said bannon removal nsc potential setback sphere influence trump white house voice major decision trump confidant said bannon remained influential ever still involved everything still full confidence president fair much stuff confidant said speaking condition anonymity white house official said bannon longer needed nsc departure trump first national security adviser michael flynn flynn forced resign feb contact russia ambassador united state sergei kislyak prior trump taking office jan official said bannon placed nsc originally check flynn attended one nsc regular meeting official dismissed question power struggle bannon mcmaster saying shared world view however two current national security official rejected white house explanation noting two month passed since flynn departure mcmaster said speaking condition anonymity also dueled bannon others direct access trump future deputy national security adviser k mcfarland former fox news commentator intelligence director ezra cohen watnick flynn appointee staffing decision trump preparing first face face meeting thursday friday chinese president xi jinping threat north korea nuclear missile program key component talk bannon seat nsc principal committee group includes secretary state defense ranking aide taken rick perry energy secretary charged overseeing u nuclear weapon arsenal '"
            ]
          },
          "execution_count": 27,
          "metadata": {},
          "output_type": "execute_result"
        }
      ],
      "source": [
        "X_test[4436]"
      ]
    }
  ],
  "metadata": {
    "colab": {
      "collapsed_sections": [],
      "include_colab_link": true,
      "name": "Fake News Detection.ipynb",
      "provenance": []
    },
    "kernelspec": {
      "display_name": "Python 3",
      "name": "python3"
    },
    "language_info": {
      "codemirror_mode": {
        "name": "ipython",
        "version": 3
      },
      "file_extension": ".py",
      "mimetype": "text/x-python",
      "name": "python",
      "nbconvert_exporter": "python",
      "pygments_lexer": "ipython3",
      "version": "3.10.1"
    }
  },
  "nbformat": 4,
  "nbformat_minor": 0
}
